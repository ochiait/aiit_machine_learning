{
  "nbformat": 4,
  "nbformat_minor": 0,
  "metadata": {
    "colab": {
      "name": "181112_機械学習特論演習_CNN_Keras.ipynb",
      "version": "0.3.2",
      "provenance": [],
      "collapsed_sections": [],
      "include_colab_link": true
    },
    "kernelspec": {
      "name": "python3",
      "display_name": "Python 3"
    },
    "accelerator": "GPU"
  },
  "cells": [
    {
      "cell_type": "markdown",
      "metadata": {
        "id": "view-in-github",
        "colab_type": "text"
      },
      "source": [
        "<a href=\"https://colab.research.google.com/github/ochiait/aiit_machine_learning/blob/master/181112_%E6%A9%9F%E6%A2%B0%E5%AD%A6%E7%BF%92%E7%89%B9%E8%AB%96%E6%BC%94%E7%BF%92_CNN_Keras.ipynb\" target=\"_parent\"><img src=\"https://colab.research.google.com/assets/colab-badge.svg\" alt=\"Open In Colab\"/></a>"
      ]
    },
    {
      "metadata": {
        "id": "r8d4V4rs_plI",
        "colab_type": "text"
      },
      "cell_type": "markdown",
      "source": [
        "181112_機械学習特論演習_CNN_Keras"
      ]
    },
    {
      "metadata": {
        "id": "P3ZkbCHqAOPz",
        "colab_type": "text"
      },
      "cell_type": "markdown",
      "source": [
        "演習１：CIFAR-10の画像をCNNで分類してみよう"
      ]
    },
    {
      "metadata": {
        "id": "-UxLHz1a_xMx",
        "colab_type": "code",
        "colab": {}
      },
      "cell_type": "code",
      "source": [
        "#ライブラリのインポート\n",
        "import matplotlib.pyplot as plt\n",
        "from keras import models\n",
        "from keras import layers\n",
        "from keras import optimizers\n",
        "from keras import datasets\n",
        "from keras import utils"
      ],
      "execution_count": 0,
      "outputs": []
    },
    {
      "metadata": {
        "id": "IjCwvU2fACKp",
        "colab_type": "code",
        "outputId": "3f6d9c61-7293-4f16-b61c-b6201cec83f5",
        "colab": {
          "base_uri": "https://localhost:8080/",
          "height": 85
        }
      },
      "cell_type": "code",
      "source": [
        "#データの取り込みと確認\n",
        "(x_train,y_train),(x_test,y_test)=datasets.cifar10.load_data()\n",
        "print('x_train.shape: ', x_train.shape)\n",
        "print('y_train.shape: ', y_train.shape)\n",
        "print('x_test.shape: ', x_test.shape)\n",
        "print('y_test.shape: ', y_test.shape)"
      ],
      "execution_count": 0,
      "outputs": [
        {
          "output_type": "stream",
          "text": [
            "x_train.shape:  (50000, 32, 32, 3)\n",
            "y_train.shape:  (50000, 1)\n",
            "x_test.shape:  (10000, 32, 32, 3)\n",
            "y_test.shape:  (10000, 1)\n"
          ],
          "name": "stdout"
        }
      ]
    },
    {
      "metadata": {
        "id": "qKFJzhYmAEOB",
        "colab_type": "code",
        "colab": {}
      },
      "cell_type": "code",
      "source": [
        "#データの整形\n",
        "#1以下の値に正規化\n",
        "x_train=x_train/255.\n",
        "x_test=x_test/255.\n",
        "y_train=utils.to_categorical(y_train,10)\n",
        "y_test=utils.to_categorical(y_test,10)"
      ],
      "execution_count": 0,
      "outputs": []
    },
    {
      "metadata": {
        "id": "2CD5h5-TAFCK",
        "colab_type": "code",
        "colab": {}
      },
      "cell_type": "code",
      "source": [
        "#畳み込み層を2層追加\n",
        "model = models.Sequential()\n",
        "model.add(\n",
        "  layers.Conv2D(\n",
        "    filters=32,\n",
        "    input_shape=(32,32,3),\n",
        "    kernel_size=(3,3),\n",
        "    strides=(1,1),\n",
        "    padding='same',#入力画像と出力画像のサイズを同じにするPadding\n",
        "    activation='relu'\n",
        "  )\n",
        ")\n",
        "\n",
        "model.add(\n",
        "  layers.Conv2D(\n",
        "    filters=32,\n",
        "    kernel_size=(3,3),\n",
        "    strides=(1,1),\n",
        "    padding='same',\n",
        "    activation='relu'\n",
        "  )\n",
        ")\n"
      ],
      "execution_count": 0,
      "outputs": []
    },
    {
      "metadata": {
        "id": "E5tx6CTSAn9j",
        "colab_type": "code",
        "colab": {}
      },
      "cell_type": "code",
      "source": [
        "#プーリング層を追加\n",
        "model.add(layers.MaxPooling2D(pool_size=(2,2)))#画像サイズは1/4になる"
      ],
      "execution_count": 0,
      "outputs": []
    },
    {
      "metadata": {
        "id": "JI86TUtBAom9",
        "colab_type": "code",
        "colab": {}
      },
      "cell_type": "code",
      "source": [
        "#ドロップアウト層を追加\n",
        "#ドロップアウト率は0.25\n",
        "model.add(layers.Dropout(0.25))"
      ],
      "execution_count": 0,
      "outputs": []
    },
    {
      "metadata": {
        "id": "XXfND6NiAsAS",
        "colab_type": "code",
        "colab": {}
      },
      "cell_type": "code",
      "source": [
        "#フィルタの数を2倍にしてもう一回繰り返す。\n",
        "model.add(\n",
        "  layers.Conv2D(\n",
        "    filters=64,\n",
        "    input_shape=(32,32,3),\n",
        "    kernel_size=(3,3),\n",
        "    strides=(1,1),\n",
        "    padding='same',\n",
        "    activation='relu'\n",
        "  )\n",
        ")\n",
        "\n",
        "model.add(\n",
        "  layers.Conv2D(\n",
        "    filters=64,\n",
        "    kernel_size=(3,3),\n",
        "    strides=(1,1),\n",
        "    padding='same',\n",
        "    activation='relu'\n",
        "  )\n",
        ")\n",
        "\n",
        "model.add(layers.MaxPooling2D(pool_size=(2,2)))\n",
        "model.add(layers.Dropout(0.25))"
      ],
      "execution_count": 0,
      "outputs": []
    },
    {
      "metadata": {
        "id": "XtlDPyGPBCdR",
        "colab_type": "code",
        "colab": {}
      },
      "cell_type": "code",
      "source": [
        "#全結合3層でクラス分類\n",
        "#ベクトル化（次数は4096）\n",
        "model.add(layers.Flatten())\n",
        "#次数を512に落とす\n",
        "model.add(layers.Dense(units=512, activation='relu'))\n",
        "model.add(layers.Dropout(0.5))\n",
        "#最後はsoftmaxで１０のクラス分類\n",
        "model.add(layers.Dense(units=10, activation='softmax'))"
      ],
      "execution_count": 0,
      "outputs": []
    },
    {
      "metadata": {
        "id": "96jqWnqdBG2R",
        "colab_type": "code",
        "colab": {}
      },
      "cell_type": "code",
      "source": [
        "#モデルのコンパイル\n",
        "model.compile(\n",
        "loss='categorical_crossentropy',#多クラス分類の損失関数\n",
        "optimizer=optimizers.Adam(lr=0.001),#SGDよりも洗練化されているRMSprop, AdaDelta, Adagradなどいろいろあるので試してみてください\n",
        "metrics=['acc']#精度で評価\n",
        ")"
      ],
      "execution_count": 0,
      "outputs": []
    },
    {
      "metadata": {
        "id": "0wxCZoyoBb79",
        "colab_type": "code",
        "outputId": "e5ccb337-f3d5-4c38-d5ad-51a4c12dda5e",
        "colab": {
          "base_uri": "https://localhost:8080/",
          "height": 544
        }
      },
      "cell_type": "code",
      "source": [
        "#モデルのネットワーク構造の表示\n",
        "model.summary()"
      ],
      "execution_count": 0,
      "outputs": [
        {
          "output_type": "stream",
          "text": [
            "_________________________________________________________________\n",
            "Layer (type)                 Output Shape              Param #   \n",
            "=================================================================\n",
            "conv2d_1 (Conv2D)            (None, 32, 32, 32)        896       \n",
            "_________________________________________________________________\n",
            "conv2d_2 (Conv2D)            (None, 32, 32, 32)        9248      \n",
            "_________________________________________________________________\n",
            "max_pooling2d_1 (MaxPooling2 (None, 16, 16, 32)        0         \n",
            "_________________________________________________________________\n",
            "dropout_1 (Dropout)          (None, 16, 16, 32)        0         \n",
            "_________________________________________________________________\n",
            "conv2d_3 (Conv2D)            (None, 16, 16, 64)        18496     \n",
            "_________________________________________________________________\n",
            "conv2d_4 (Conv2D)            (None, 16, 16, 64)        36928     \n",
            "_________________________________________________________________\n",
            "max_pooling2d_2 (MaxPooling2 (None, 8, 8, 64)          0         \n",
            "_________________________________________________________________\n",
            "dropout_2 (Dropout)          (None, 8, 8, 64)          0         \n",
            "_________________________________________________________________\n",
            "flatten_1 (Flatten)          (None, 4096)              0         \n",
            "_________________________________________________________________\n",
            "dense_1 (Dense)              (None, 512)               2097664   \n",
            "_________________________________________________________________\n",
            "dropout_3 (Dropout)          (None, 512)               0         \n",
            "_________________________________________________________________\n",
            "dense_2 (Dense)              (None, 10)                5130      \n",
            "=================================================================\n",
            "Total params: 2,168,362\n",
            "Trainable params: 2,168,362\n",
            "Non-trainable params: 0\n",
            "_________________________________________________________________\n"
          ],
          "name": "stdout"
        }
      ]
    },
    {
      "metadata": {
        "id": "lz3pmB3cBetY",
        "colab_type": "code",
        "outputId": "8b730155-806d-4222-85c8-b875cd76fbc9",
        "colab": {
          "base_uri": "https://localhost:8080/",
          "height": 714
        }
      },
      "cell_type": "code",
      "source": [
        "#学習(learning)\n",
        "#エポック数20, バッチサイズ32で学習\n",
        "history=model.fit(x_train,y_train,epochs=20,batch_size=32,validation_split=0.2)#トレーニングデータの20％を検証用に使う"
      ],
      "execution_count": 0,
      "outputs": [
        {
          "output_type": "stream",
          "text": [
            "Train on 40000 samples, validate on 10000 samples\n",
            "Epoch 1/20\n",
            "40000/40000 [==============================] - 30s 753us/step - loss: 1.1446 - acc: 0.6264 - val_loss: 0.9570 - val_acc: 0.6874\n",
            "Epoch 2/20\n",
            "40000/40000 [==============================] - 32s 790us/step - loss: 1.0675 - acc: 0.6531 - val_loss: 0.9214 - val_acc: 0.6988\n",
            "Epoch 3/20\n",
            "40000/40000 [==============================] - 32s 793us/step - loss: 0.9979 - acc: 0.6736 - val_loss: 0.8559 - val_acc: 0.7135\n",
            "Epoch 4/20\n",
            "40000/40000 [==============================] - 29s 735us/step - loss: 0.9541 - acc: 0.6883 - val_loss: 0.8291 - val_acc: 0.7356\n",
            "Epoch 5/20\n",
            "40000/40000 [==============================] - 29s 727us/step - loss: 0.9120 - acc: 0.7044 - val_loss: 0.8295 - val_acc: 0.7276\n",
            "Epoch 6/20\n",
            "40000/40000 [==============================] - 28s 697us/step - loss: 0.9003 - acc: 0.7083 - val_loss: 0.8955 - val_acc: 0.7323\n",
            "Epoch 7/20\n",
            "40000/40000 [==============================] - 29s 715us/step - loss: 0.8640 - acc: 0.7144 - val_loss: 0.8214 - val_acc: 0.7337\n",
            "Epoch 8/20\n",
            "40000/40000 [==============================] - 29s 715us/step - loss: 0.8330 - acc: 0.7228 - val_loss: 0.7972 - val_acc: 0.7482\n",
            "Epoch 9/20\n",
            "40000/40000 [==============================] - 29s 719us/step - loss: 0.8216 - acc: 0.7320 - val_loss: 0.7712 - val_acc: 0.7470\n",
            "Epoch 10/20\n",
            "40000/40000 [==============================] - 29s 717us/step - loss: 0.8020 - acc: 0.7377 - val_loss: 0.7409 - val_acc: 0.7564\n",
            "Epoch 11/20\n",
            "40000/40000 [==============================] - 29s 715us/step - loss: 0.7805 - acc: 0.7455 - val_loss: 0.8278 - val_acc: 0.7468\n",
            "Epoch 12/20\n",
            "40000/40000 [==============================] - 29s 714us/step - loss: 0.7679 - acc: 0.7478 - val_loss: 0.7926 - val_acc: 0.7442\n",
            "Epoch 13/20\n",
            "40000/40000 [==============================] - 29s 722us/step - loss: 0.7488 - acc: 0.7542 - val_loss: 0.7966 - val_acc: 0.7504\n",
            "Epoch 14/20\n",
            "40000/40000 [==============================] - 29s 713us/step - loss: 0.7412 - acc: 0.7582 - val_loss: 0.7979 - val_acc: 0.7380\n",
            "Epoch 15/20\n",
            "40000/40000 [==============================] - 29s 713us/step - loss: 0.7172 - acc: 0.7623 - val_loss: 0.7490 - val_acc: 0.7650\n",
            "Epoch 16/20\n",
            "40000/40000 [==============================] - 28s 708us/step - loss: 0.7112 - acc: 0.7675 - val_loss: 0.7361 - val_acc: 0.7600\n",
            "Epoch 17/20\n",
            "40000/40000 [==============================] - 28s 696us/step - loss: 0.6909 - acc: 0.7729 - val_loss: 0.7577 - val_acc: 0.7614\n",
            "Epoch 18/20\n",
            "40000/40000 [==============================] - 28s 693us/step - loss: 0.6871 - acc: 0.7740 - val_loss: 0.8791 - val_acc: 0.7689\n",
            "Epoch 19/20\n",
            "40000/40000 [==============================] - 28s 708us/step - loss: 0.6604 - acc: 0.7798 - val_loss: 0.7401 - val_acc: 0.7687\n",
            "Epoch 20/20\n",
            "40000/40000 [==============================] - 28s 706us/step - loss: 0.6662 - acc: 0.7809 - val_loss: 0.7227 - val_acc: 0.7705\n"
          ],
          "name": "stdout"
        }
      ]
    },
    {
      "metadata": {
        "id": "RdwnJGm5Bi0K",
        "colab_type": "code",
        "outputId": "29a11731-b87d-467f-9746-6799411c1fcf",
        "colab": {
          "base_uri": "https://localhost:8080/",
          "height": 705
        }
      },
      "cell_type": "code",
      "source": [
        "#学習過程（learning process）のグラフ表示（graph expression）\n",
        "#トレーニング時、検証時の損失と精度をグラフ化\n",
        "history_dict=history.history\n",
        "loss=history_dict['loss']\n",
        "val_loss=history_dict['val_loss']\n",
        "acc=history_dict['acc']\n",
        "val_acc=history_dict['val_acc']\n",
        "epochs=range(1,len(loss)+1)\n",
        "plt.plot(epochs, loss, 'ro', label='Training loss')\n",
        "plt.plot(epochs, val_loss, 'b', label='Validation loss')\n",
        "plt.xlabel('Epochs')\n",
        "plt.ylabel('Loss')\n",
        "plt.legend()\n",
        "plt.figure()\n",
        "plt.plot(epochs,acc, 'ro', label='Training acc')\n",
        "plt.plot(epochs, val_acc, 'b', \n",
        "label='Validation acc')\n",
        "plt.xlabel('Epochs')\n",
        "plt.ylabel('Accuracy')\n",
        "plt.legend()\n",
        "plt.show()"
      ],
      "execution_count": 0,
      "outputs": [
        {
          "output_type": "display_data",
          "data": {
            "image/png": "[encoded data removed]",
            "text/plain": [
              "<matplotlib.figure.Figure at 0x7f07c5978390>"
            ]
          },
          "metadata": {
            "tags": []
          }
        },
        {
          "output_type": "display_data",
          "data": {
            "image/png": "[encoded data removed]",
            "text/plain": [
              "<matplotlib.figure.Figure at 0x7f07c59432b0>"
            ]
          },
          "metadata": {
            "tags": []
          }
        }
      ]
    },
    {
      "metadata": {
        "id": "okWYw6UNBj49",
        "colab_type": "code",
        "outputId": "a839bc23-ddac-4eb8-af69-5b55685a93e3",
        "colab": {
          "base_uri": "https://localhost:8080/",
          "height": 51
        }
      },
      "cell_type": "code",
      "source": [
        "#最後に別のテスト用データで試験\n",
        "print(model.evaluate(x_test, y_test))"
      ],
      "execution_count": 0,
      "outputs": [
        {
          "output_type": "stream",
          "text": [
            "10000/10000 [==============================] - 2s 210us/step\n",
            "[0.7262585110664368, 0.7677]\n"
          ],
          "name": "stdout"
        }
      ]
    }
  ]
}